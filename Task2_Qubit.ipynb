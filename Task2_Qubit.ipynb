{
  "cells": [
    {
      "cell_type": "markdown",
      "metadata": {
        "id": "view-in-github",
        "colab_type": "text"
      },
      "source": [
        "<a href=\"https://colab.research.google.com/github/MahmoudHH1/Qubit/blob/main/Task2_Qubit.ipynb\" target=\"_parent\"><img src=\"https://colab.research.google.com/assets/colab-badge.svg\" alt=\"Open In Colab\"/></a>"
      ]
    },
    {
      "cell_type": "markdown",
      "id": "d9bef481",
      "metadata": {
        "id": "d9bef481"
      },
      "source": [
        "# Lab 1\n",
        "\n",
        "This lab shows you how to use Qiskit to implement some of the key concepts you learned in the first 2 lectures.\n",
        "This lab is devised from the Qiskit Global Summer School 2023."
      ]
    },
    {
      "cell_type": "code",
      "execution_count": null,
      "id": "d4749ad4",
      "metadata": {
        "tags": [],
        "id": "d4749ad4"
      },
      "outputs": [],
      "source": [
        "# required imports:\n",
        "from qiskit.visualization import array_to_latex\n",
        "from qiskit.quantum_info import Statevector, random_statevector\n",
        "from qiskit.quantum_info.operators import Operator, Pauli\n",
        "from qiskit import QuantumCircuit\n",
        "from qiskit.circuit.library import HGate, CXGate\n",
        "import numpy as np"
      ]
    },
    {
      "cell_type": "markdown",
      "id": "742da035",
      "metadata": {
        "id": "742da035"
      },
      "source": [
        "## Vectors and Dirac Notation"
      ]
    },
    {
      "cell_type": "markdown",
      "id": "808ec86f",
      "metadata": {
        "id": "808ec86f"
      },
      "source": [
        "In the lectures you learned different ways of representing quantum states, including how to use bra-ket (Dirac) notation.\n",
        "\n",
        "Although bra-ket notation cannot be represented exactly in code, we can represent their vector and matrix equivalent with python.\n",
        "\n",
        "E.g. we can represent $|0\\rangle$ using a python list:"
      ]
    },
    {
      "cell_type": "code",
      "execution_count": null,
      "id": "b93989c8",
      "metadata": {
        "tags": [],
        "id": "b93989c8"
      },
      "outputs": [],
      "source": [
        "ket0 = [[1],[0]]"
      ]
    },
    {
      "cell_type": "markdown",
      "id": "34428069",
      "metadata": {
        "id": "34428069"
      },
      "source": [
        "And we can use one of Qiskit's visualisation tools to make our vectors nicer to look at:"
      ]
    },
    {
      "cell_type": "code",
      "execution_count": null,
      "id": "ee9b7eb0",
      "metadata": {
        "tags": [],
        "colab": {
          "base_uri": "https://localhost:8080/",
          "height": 58
        },
        "id": "ee9b7eb0",
        "outputId": "5cfefe4b-f2b6-478c-984f-0aaa332c5c88"
      },
      "outputs": [
        {
          "output_type": "execute_result",
          "data": {
            "text/plain": [
              "<IPython.core.display.Latex object>"
            ],
            "text/latex": "$$\n\n\\begin{bmatrix}\n1  \\\\\n 0  \\\\\n \\end{bmatrix}\n$$"
          },
          "metadata": {},
          "execution_count": 8
        }
      ],
      "source": [
        "array_to_latex(ket0)"
      ]
    },
    {
      "cell_type": "markdown",
      "id": "a61be47b",
      "metadata": {
        "id": "a61be47b"
      },
      "source": [
        "We can do the same with $\\langle0|$:"
      ]
    },
    {
      "cell_type": "code",
      "execution_count": null,
      "id": "25f9ff7e",
      "metadata": {
        "tags": [],
        "colab": {
          "base_uri": "https://localhost:8080/",
          "height": 38
        },
        "id": "25f9ff7e",
        "outputId": "0e7a04c7-9524-4240-af8f-76feef11a4ee"
      },
      "outputs": [
        {
          "output_type": "execute_result",
          "data": {
            "text/plain": [
              "<IPython.core.display.Latex object>"
            ],
            "text/latex": "$$\n\n\\begin{bmatrix}\n1 & 0  \\\\\n \\end{bmatrix}\n$$"
          },
          "metadata": {},
          "execution_count": 9
        }
      ],
      "source": [
        "bra0 = [1,0]\n",
        "array_to_latex(bra0)"
      ]
    },
    {
      "cell_type": "markdown",
      "id": "2cc359db",
      "metadata": {
        "id": "2cc359db"
      },
      "source": [
        "<div class=\"alert alert-block alert-success\"> Ex 1 - create $|1\\rangle$ and $\\langle1|$ with python lists </div>"
      ]
    },
    {
      "cell_type": "code",
      "execution_count": null,
      "id": "59a7be22",
      "metadata": {
        "tags": [],
        "id": "59a7be22"
      },
      "outputs": [],
      "source": [
        "ket1 = [[1],[0]]\n",
        "bra1 = [0,1]"
      ]
    },
    {
      "cell_type": "markdown",
      "id": "21b44ec9",
      "metadata": {
        "id": "21b44ec9"
      },
      "source": [
        "## Qiskit `Statevector` Class\n",
        "\n",
        "In the lectures you learned about using state vectors to represent quantum states. You can represent quantum state vectors in code using Qiskit's [`Statevector` class](https://qiskit.org/documentation/stubs/qiskit.quantum_info.Statevector.html).\n",
        "\n",
        "Qiskit's `Statevector` class can take different forms of input (e.g. python list, numpy array, another state vector) to construct a state vector.\n",
        "\n",
        "Let's take the `bra0` object we created earlier and convert it to a `Statevector` object:"
      ]
    },
    {
      "cell_type": "code",
      "execution_count": null,
      "id": "3ac7420a",
      "metadata": {
        "tags": [],
        "colab": {
          "base_uri": "https://localhost:8080/"
        },
        "id": "3ac7420a",
        "outputId": "20acf0e0-42ae-4309-c667-6ab1ac32cbff"
      },
      "outputs": [
        {
          "output_type": "stream",
          "name": "stdout",
          "text": [
            "Statevector([1.+0.j, 0.+0.j],\n",
            "            dims=(2,))\n"
          ]
        }
      ],
      "source": [
        "sv_bra0 = Statevector(bra0)\n",
        "\n",
        "sv_bra0"
      ]
    },
    {
      "cell_type": "markdown",
      "id": "9d3015ec",
      "metadata": {
        "id": "9d3015ec"
      },
      "source": [
        "The `Statevector` class has its own `draw()` method:"
      ]
    },
    {
      "cell_type": "code",
      "execution_count": null,
      "id": "c7d0a57c",
      "metadata": {
        "tags": [],
        "colab": {
          "base_uri": "https://localhost:8080/",
          "height": 37
        },
        "id": "c7d0a57c",
        "outputId": "3689a2c0-5e53-4081-9f14-7358b36d665f"
      },
      "outputs": [
        {
          "output_type": "execute_result",
          "data": {
            "text/plain": [
              "<IPython.core.display.Latex object>"
            ],
            "text/latex": "$$ |0\\rangle$$"
          },
          "metadata": {},
          "execution_count": 13
        }
      ],
      "source": [
        "sv_bra0.draw('latex')"
      ]
    },
    {
      "cell_type": "markdown",
      "id": "9a443d7b",
      "metadata": {
        "id": "9a443d7b"
      },
      "source": [
        "We can create more complex statevectors with multiple qubits like this:"
      ]
    },
    {
      "cell_type": "code",
      "execution_count": null,
      "id": "dc70f9c7",
      "metadata": {
        "tags": [],
        "colab": {
          "base_uri": "https://localhost:8080/",
          "height": 38
        },
        "id": "dc70f9c7",
        "outputId": "b0946a53-28b3-43e7-b3a5-0b75f59876ec"
      },
      "outputs": [
        {
          "output_type": "execute_result",
          "data": {
            "text/plain": [
              "<IPython.core.display.Latex object>"
            ],
            "text/latex": "$$\\frac{1}{2} |00\\rangle+\\frac{3}{4} |01\\rangle+\\frac{4}{5} |10\\rangle+\\frac{3}{4} |11\\rangle$$"
          },
          "metadata": {},
          "execution_count": 14
        }
      ],
      "source": [
        "sv_eq = Statevector([1/2, 3/4, 4/5, 6/8])\n",
        "\n",
        "sv_eq.draw('latex')"
      ]
    },
    {
      "cell_type": "markdown",
      "id": "c7e00788",
      "metadata": {
        "id": "c7e00788"
      },
      "source": [
        "Note that the vector above is not a valid state vector as it is not normalised.\n",
        "We can check this with the `is_valid()` method:"
      ]
    },
    {
      "cell_type": "code",
      "execution_count": null,
      "id": "8459bf73",
      "metadata": {
        "tags": [],
        "colab": {
          "base_uri": "https://localhost:8080/"
        },
        "id": "8459bf73",
        "outputId": "b470a3ec-e2fb-4adf-ce0b-accf4d912d76"
      },
      "outputs": [
        {
          "output_type": "execute_result",
          "data": {
            "text/plain": [
              "False"
            ]
          },
          "metadata": {},
          "execution_count": 15
        }
      ],
      "source": [
        "sv_eq.is_valid()"
      ]
    },
    {
      "cell_type": "markdown",
      "id": "a4b83945",
      "metadata": {
        "id": "a4b83945"
      },
      "source": [
        "<div class=\"alert alert-block alert-success\"> Ex 2 - create your own valid statevector object using the `Statevector` class </div>"
      ]
    },
    {
      "cell_type": "markdown",
      "source": [
        "first we are going to create a normald"
      ],
      "metadata": {
        "id": "zhwR-Tddcm0H"
      },
      "id": "zhwR-Tddcm0H"
    },
    {
      "cell_type": "code",
      "execution_count": null,
      "id": "02cfaf2f",
      "metadata": {
        "tags": [],
        "id": "02cfaf2f"
      },
      "outputs": [],
      "source": [
        "sv_valid = Statevector([1.0])"
      ]
    },
    {
      "cell_type": "code",
      "source": [
        "sv_valid.is_valid()"
      ],
      "metadata": {
        "colab": {
          "base_uri": "https://localhost:8080/"
        },
        "id": "_gWHbxQibwQb",
        "outputId": "72522751-b5c2-4d6e-b837-6b47d838d0a8"
      },
      "id": "_gWHbxQibwQb",
      "execution_count": null,
      "outputs": [
        {
          "output_type": "execute_result",
          "data": {
            "text/plain": [
              "True"
            ]
          },
          "metadata": {},
          "execution_count": 23
        }
      ]
    },
    {
      "cell_type": "markdown",
      "id": "3faad35b",
      "metadata": {
        "id": "3faad35b"
      },
      "source": [
        "## Qiskit `Operator` Class\n",
        "\n",
        "The [`Operator` class](https://qiskit.org/documentation/stubs/qiskit.quantum_info.Operator.html#qiskit.quantum_info.Operator) is used in Qiskit to represent matrix operators acting on a quantum system. It has several methods to build composite operators using tensor products of smaller operators, and to compose operators.\n",
        "\n",
        "One way we can initialise a Qiskit `Operator` is by using a python list, like the one we created earlier:"
      ]
    },
    {
      "cell_type": "code",
      "execution_count": null,
      "id": "180a544f",
      "metadata": {
        "tags": [],
        "colab": {
          "base_uri": "https://localhost:8080/"
        },
        "id": "180a544f",
        "outputId": "54b2179d-40c6-4f49-f660-55b63e6699f6"
      },
      "outputs": [
        {
          "output_type": "stream",
          "name": "stdout",
          "text": [
            "Operator([1.+0.j, 0.+0.j],\n",
            "         input_dims=(), output_dims=(2,))\n"
          ]
        }
      ],
      "source": [
        "op_bra0 = Operator(bra0)\n",
        "\n",
        "op_bra0"
      ]
    },
    {
      "cell_type": "markdown",
      "id": "dc578df9",
      "metadata": {
        "id": "dc578df9"
      },
      "source": [
        "The Operator class comes with some handy methods for working with operators, for example we can find the tensor product of 2 operators by using the `tensor()` method:"
      ]
    },
    {
      "cell_type": "code",
      "execution_count": null,
      "id": "7aed9441",
      "metadata": {
        "tags": [],
        "colab": {
          "base_uri": "https://localhost:8080/"
        },
        "id": "7aed9441",
        "outputId": "0a156288-69e2-4b39-878b-6c6a4614f0c6"
      },
      "outputs": [
        {
          "output_type": "stream",
          "name": "stdout",
          "text": [
            "Operator([[1.+0.j, 0.+0.j],\n",
            "          [0.+0.j, 0.+0.j]],\n",
            "         input_dims=(), output_dims=(2, 2))\n"
          ]
        }
      ],
      "source": [
        "op_ket0 = Operator(ket0)\n",
        "op_bra0.tensor(op_ket0)"
      ]
    },
    {
      "cell_type": "markdown",
      "id": "e244f5a0",
      "metadata": {
        "id": "e244f5a0"
      },
      "source": [
        "We'll use the `Operator` and `Statevector` classes more in the following exercises."
      ]
    },
    {
      "cell_type": "markdown",
      "id": "208cf2b6",
      "metadata": {
        "id": "208cf2b6"
      },
      "source": [
        "## Inner & Outer Product\n",
        "\n",
        "In the lectures you covered the concepts of the inner and outer product. We can explore these concepts in code using numpy methods `.dot()` (the inner product is a generalised form of the dot product) and `.outer()`.\n",
        "\n",
        "For example, we can find the inner product $\\langle0|0\\rangle$ like this:"
      ]
    },
    {
      "cell_type": "code",
      "execution_count": null,
      "id": "cf3cb816",
      "metadata": {
        "tags": [],
        "colab": {
          "base_uri": "https://localhost:8080/",
          "height": 38
        },
        "id": "cf3cb816",
        "outputId": "07cdfa8d-0113-4d1a-ead2-f511e655d684"
      },
      "outputs": [
        {
          "output_type": "execute_result",
          "data": {
            "text/plain": [
              "<IPython.core.display.Latex object>"
            ],
            "text/latex": "$$\n\n\\begin{bmatrix}\n1  \\\\\n \\end{bmatrix}\n$$"
          },
          "metadata": {},
          "execution_count": 27
        }
      ],
      "source": [
        "braket = np.dot(op_bra0,op_ket0)\n",
        "array_to_latex(braket)"
      ]
    },
    {
      "cell_type": "markdown",
      "id": "e5d604d7",
      "metadata": {
        "id": "e5d604d7"
      },
      "source": [
        "and the outer product $|0\\rangle\\langle0|$ like this:"
      ]
    },
    {
      "cell_type": "code",
      "execution_count": null,
      "id": "73232e3d",
      "metadata": {
        "tags": [],
        "colab": {
          "base_uri": "https://localhost:8080/",
          "height": 58
        },
        "id": "73232e3d",
        "outputId": "8cd68297-cad1-4f6e-a064-b7eb7a9f87a6"
      },
      "outputs": [
        {
          "output_type": "execute_result",
          "data": {
            "text/plain": [
              "<IPython.core.display.Latex object>"
            ],
            "text/latex": "$$\n\n\\begin{bmatrix}\n1 & 0  \\\\\n 0 & 0  \\\\\n \\end{bmatrix}\n$$"
          },
          "metadata": {},
          "execution_count": 28
        }
      ],
      "source": [
        "ketbra = np.outer(ket0,bra0)\n",
        "array_to_latex(ketbra)"
      ]
    },
    {
      "cell_type": "code",
      "execution_count": null,
      "id": "98e2ba66",
      "metadata": {
        "tags": [],
        "colab": {
          "base_uri": "https://localhost:8080/",
          "height": 38
        },
        "id": "98e2ba66",
        "outputId": "f2a80244-d1e2-4702-8cdf-1ca17b9e36d1"
      },
      "outputs": [
        {
          "output_type": "execute_result",
          "data": {
            "text/plain": [
              "<IPython.core.display.Latex object>"
            ],
            "text/latex": "$$\n\n\\begin{bmatrix}\n1  \\\\\n \\end{bmatrix}\n$$"
          },
          "metadata": {},
          "execution_count": 29
        }
      ],
      "source": [
        "braket = np.dot(op_bra0,op_ket0)\n",
        "array_to_latex(braket)"
      ]
    },
    {
      "cell_type": "markdown",
      "id": "cdca2a30",
      "metadata": {
        "id": "cdca2a30"
      },
      "source": [
        "Note: the numpy methods we used above work with Qiskit Operators as well as regular python lists."
      ]
    },
    {
      "cell_type": "markdown",
      "id": "2dc9ed02",
      "metadata": {
        "id": "2dc9ed02"
      },
      "source": [
        "<div class=\"alert alert-block alert-success\"> Ex 3 - use numpy to find the result of the following inner and outer products: $\\langle1|0\\rangle, \\langle0|1\\rangle, \\langle1|1\\rangle, |1\\rangle\\langle0|, |0\\rangle\\langle1|$ and $|1\\rangle\\langle1| $ </div>"
      ]
    },
    {
      "cell_type": "code",
      "execution_count": null,
      "id": "72e1bb34",
      "metadata": {
        "tags": [],
        "id": "72e1bb34"
      },
      "outputs": [],
      "source": [
        "bra1ket0 = np.dot(Operator(bra1),Operator(ket0))\n",
        "bra0ket1 = np.dot(Operator(bra0),Operator(ket1))\n",
        "bra1ket1 = np.dot(Operator(bra0),Operator(ket1))\n",
        "ket1bra0 = np.outer(Operator(ket1),Operator(bra0))\n",
        "ket0bra1 = np.outer(Operator(ket0),Operator(bra1))\n",
        "ket1bra1 = np.outer(Operator(ket1),Operator(bra1))"
      ]
    },
    {
      "cell_type": "markdown",
      "id": "7c03e06d",
      "metadata": {
        "id": "7c03e06d"
      },
      "source": [
        "<div class=\"alert alert-block alert-success\">\n",
        "    <p> Ex 4 - when the inner product of 2 quantum states is equal to 0, those states are orthogonal. Which of the following states are orthogonal? </p>\n",
        "    <p>a) $\\vert 0\\rangle$ and $\\vert 1\\rangle$ </p>\n",
        "    <p>b) $\\vert 0\\rangle$ and $\\vert 0\\rangle$ </p>\n",
        "    <p>c) $\\vert 1\\rangle$ and $\\vert 1\\rangle$ </p>\n",
        "</div>"
      ]
    },
    {
      "cell_type": "code",
      "execution_count": null,
      "id": "6e061263",
      "metadata": {
        "tags": [],
        "id": "6e061263"
      },
      "outputs": [],
      "source": [
        "# add or remove your answer from this list\n",
        "answer = ['a']"
      ]
    },
    {
      "cell_type": "markdown",
      "id": "e695b37a",
      "metadata": {
        "id": "e695b37a"
      },
      "source": [
        "## Deterministic operations\n",
        "\n",
        "As mentioned in the lectures, there are 4 single bit deterministic operations:  \n",
        "f1 = constant-0  \n",
        "f2 = identity  \n",
        "f3 = bit flip / not  \n",
        "f4 = constant-1\n",
        "\n",
        "$$\n",
        "\\begin{array}{c|c}\n",
        "  a & f_1(a)\\\\\n",
        "  \\hline\n",
        "  0 & 0\\\\\n",
        "  1 & 0\n",
        "\\end{array}\n",
        "\\qquad\n",
        "\\begin{array}{c|c}\n",
        "  a & f_2(a)\\\\\n",
        "  \\hline\n",
        "  0 & 0\\\\\n",
        "  1 & 1\n",
        "\\end{array}\n",
        "\\qquad\n",
        "\\begin{array}{c|c}\n",
        "  a & f_3(a)\\\\\n",
        "  \\hline\n",
        "  0 & 1\\\\\n",
        "  1 & 0\n",
        "\\end{array}\n",
        "\\qquad\n",
        "\\begin{array}{c|c}\n",
        "  a & f_4(a)\\\\\n",
        "  \\hline\n",
        "  0 & 1\\\\\n",
        "  1 & 1\n",
        "\\end{array}\n",
        "$$\n",
        "\n",
        "We can create Qiskit Operators for these 4 operations, by passing their matrix representations as arguments to the `Operator` class.\n",
        "\n",
        "E.g. for constant-0 we can create the corresponding matrix m1 like so:"
      ]
    },
    {
      "cell_type": "code",
      "execution_count": null,
      "id": "8edc4262",
      "metadata": {
        "tags": [],
        "colab": {
          "base_uri": "https://localhost:8080/",
          "height": 58
        },
        "id": "8edc4262",
        "outputId": "b8083270-ebd7-4fcd-a602-2f8a27e16197"
      },
      "outputs": [
        {
          "output_type": "execute_result",
          "data": {
            "text/plain": [
              "<IPython.core.display.Latex object>"
            ],
            "text/latex": "$$\n\n\\begin{bmatrix}\n1 & 1  \\\\\n 0 & 0  \\\\\n \\end{bmatrix}\n$$"
          },
          "metadata": {},
          "execution_count": 35
        }
      ],
      "source": [
        "m1 = Operator([[1,1],[0,0]])\n",
        "array_to_latex(m1)"
      ]
    },
    {
      "cell_type": "markdown",
      "id": "2792a781",
      "metadata": {
        "id": "2792a781"
      },
      "source": [
        "and similarly for m3:"
      ]
    },
    {
      "cell_type": "code",
      "execution_count": null,
      "id": "9cc2ff6c",
      "metadata": {
        "tags": [],
        "colab": {
          "base_uri": "https://localhost:8080/",
          "height": 58
        },
        "id": "9cc2ff6c",
        "outputId": "ff7bfa90-8450-476e-8e3f-4727ae8ae976"
      },
      "outputs": [
        {
          "output_type": "execute_result",
          "data": {
            "text/plain": [
              "<IPython.core.display.Latex object>"
            ],
            "text/latex": "$$\n\n\\begin{bmatrix}\n0 & 1  \\\\\n 1 & 0  \\\\\n \\end{bmatrix}\n$$"
          },
          "metadata": {},
          "execution_count": 36
        }
      ],
      "source": [
        "m3 = Operator([[0,1],[1,0]])\n",
        "array_to_latex(m3)"
      ]
    },
    {
      "cell_type": "markdown",
      "id": "765e8f0e",
      "metadata": {
        "id": "765e8f0e"
      },
      "source": [
        "We can also use builtin python mutliplication operations (e.g. `@`, `.dot`, or `.matmul`) to check the following equation: $ M|a\\rangle = f|a\\rangle $\n",
        "\n",
        "e.g. $ M1|0\\rangle = f1|0\\rangle $ = 0"
      ]
    },
    {
      "cell_type": "code",
      "execution_count": null,
      "id": "a283a8bd",
      "metadata": {
        "tags": [],
        "colab": {
          "base_uri": "https://localhost:8080/",
          "height": 58
        },
        "id": "a283a8bd",
        "outputId": "d6c7c22c-dd68-4461-be5f-0aecf0147944"
      },
      "outputs": [
        {
          "output_type": "execute_result",
          "data": {
            "text/plain": [
              "<IPython.core.display.Latex object>"
            ],
            "text/latex": "$$\n\n\\begin{bmatrix}\n1  \\\\\n 0  \\\\\n \\end{bmatrix}\n$$"
          },
          "metadata": {},
          "execution_count": 37
        }
      ],
      "source": [
        "array_to_latex(m1@ket0)"
      ]
    },
    {
      "cell_type": "markdown",
      "id": "f044b3f6",
      "metadata": {
        "id": "f044b3f6"
      },
      "source": [
        "<div class=\"alert alert-block alert-success\"> Ex 5 - create Qiskit Operators for m2 and m4 (hint: check out the lectures to find the appropriate matrices) </div>"
      ]
    },
    {
      "cell_type": "code",
      "execution_count": 73,
      "id": "31927dfa",
      "metadata": {
        "tags": [],
        "id": "31927dfa"
      },
      "outputs": [],
      "source": [
        "m2 =Operator([[1,0],[0,1]])\n",
        "m4 =Operator([[0,0],[1,1]])"
      ]
    },
    {
      "cell_type": "markdown",
      "id": "d611468d",
      "metadata": {
        "id": "d611468d"
      },
      "source": [
        "## Probabilistic operations\n",
        "\n",
        "A Controlled-NOT (or CNOT) operation is a probabilistic operation you can apply on 2 qubits.\n",
        "\n",
        "Applying a CNOT on a state (X,Y) involves performing a NOT operation on Y when X is 1, otherwise do nothing.\n",
        "X is the control bit, Y is the target bit.\n",
        "\n",
        "We can implement a CNOT gate (and many other quantum gates) using a class from [Qiskit's circuit library](https://qiskit.org/documentation/apidoc/circuit_library.html):"
      ]
    },
    {
      "cell_type": "code",
      "execution_count": null,
      "id": "d6aec987",
      "metadata": {
        "tags": [],
        "id": "d6aec987",
        "outputId": "67dd9c96-bad9-4b58-cc5e-8f39f074b034"
      },
      "outputs": [
        {
          "data": {
            "text/latex": [
              "$$\n",
              "\n",
              "\\begin{bmatrix}\n",
              "1 & 0 & 0 & 0  \\\\\n",
              " 0 & 0 & 0 & 1  \\\\\n",
              " 0 & 0 & 1 & 0  \\\\\n",
              " 0 & 1 & 0 & 0  \\\\\n",
              " \\end{bmatrix}\n",
              "$$"
            ],
            "text/plain": [
              "<IPython.core.display.Latex object>"
            ]
          },
          "execution_count": 24,
          "metadata": {},
          "output_type": "execute_result"
        }
      ],
      "source": [
        "cnot = CXGate()\n",
        "\n",
        "array_to_latex(cnot)"
      ]
    },
    {
      "cell_type": "markdown",
      "id": "49ee11bb",
      "metadata": {
        "id": "49ee11bb"
      },
      "source": [
        "Note: this matrix is different from the one that appeared in the lesson because `CXGate()` takes the right qubit to be the control rather than the left qubit."
      ]
    },
    {
      "cell_type": "markdown",
      "id": "bd0665bc",
      "metadata": {
        "id": "bd0665bc"
      },
      "source": [
        "## Unitary Operations\n",
        "\n",
        "An operator is unitary if: $ UU^{\\dagger} = \\mathbb{1} = U^{\\dagger} U$\n",
        "\n",
        "We can check if an operator is Unitary using Qiskit with the `is_unitary()` method:"
      ]
    },
    {
      "cell_type": "code",
      "execution_count": null,
      "id": "83e80fd5",
      "metadata": {
        "tags": [],
        "id": "83e80fd5",
        "outputId": "b50bd576-3cfd-4341-ff72-bc8bfa38559f"
      },
      "outputs": [
        {
          "data": {
            "text/plain": [
              "True"
            ]
          },
          "execution_count": 25,
          "metadata": {},
          "output_type": "execute_result"
        }
      ],
      "source": [
        "m3.is_unitary()"
      ]
    },
    {
      "cell_type": "markdown",
      "id": "ef61f742",
      "metadata": {
        "id": "ef61f742"
      },
      "source": [
        "With small operators like m3 we could probably figure this out easily by ourselves, but with more complex operators it becomes more convenient to use the Qiskit function:"
      ]
    },
    {
      "cell_type": "code",
      "execution_count": null,
      "id": "90fa7840",
      "metadata": {
        "tags": [],
        "id": "90fa7840",
        "outputId": "ef6a0695-f376-4115-d4b0-c0613a0d6455"
      },
      "outputs": [
        {
          "data": {
            "text/plain": [
              "True"
            ]
          },
          "execution_count": 26,
          "metadata": {},
          "output_type": "execute_result"
        }
      ],
      "source": [
        "random = Operator(np.array([[ 0.50778085-0.44607116j, -0.1523741 +0.14128434j,  0.44607116+0.50778085j,\n",
        "  -0.14128434-0.1523741j ],\n",
        " [ 0.16855994+0.12151822j,  0.55868196+0.38038841j, -0.12151822+0.16855994j,\n",
        "  -0.38038841+0.55868196j],\n",
        " [ 0.50778085-0.44607116j, -0.1523741 +0.14128434j, -0.44607116-0.50778085j,\n",
        "   0.14128434+0.1523741j ],\n",
        " [ 0.16855994+0.12151822j,  0.55868196+0.38038841j,  0.12151822-0.16855994j,\n",
        "   0.38038841-0.55868196j]]))\n",
        "\n",
        "random.is_unitary()"
      ]
    },
    {
      "cell_type": "markdown",
      "id": "e6778ed6",
      "metadata": {
        "id": "e6778ed6"
      },
      "source": [
        "<div class=\"alert alert-block alert-success\"> Ex 6 - create an operator using the `Operator` class that is not unitary </div>"
      ]
    },
    {
      "cell_type": "code",
      "execution_count": 75,
      "id": "c43f5bbf",
      "metadata": {
        "tags": [],
        "id": "c43f5bbf",
        "outputId": "a557d269-a66c-4a18-c891-31b2645b4a0a",
        "colab": {
          "base_uri": "https://localhost:8080/"
        }
      },
      "outputs": [
        {
          "output_type": "execute_result",
          "data": {
            "text/plain": [
              "False"
            ]
          },
          "metadata": {},
          "execution_count": 75
        }
      ],
      "source": [
        "non_unitary_op = Operator([0,1/np.sqrt(2)])\n",
        "non_unitary_op.is_unitary()"
      ]
    },
    {
      "cell_type": "markdown",
      "id": "220179f8",
      "metadata": {
        "id": "220179f8"
      },
      "source": [
        "### Qubit Unitary Operations - Pauli Operations\n",
        "\n",
        "Some of the most common unitary operations in quantum computing are the Pauli operations. Qiskit's `Pauli` classes make it easy to interact with Pauli operators in code:"
      ]
    },
    {
      "cell_type": "markdown",
      "id": "26c5fec2",
      "metadata": {
        "id": "26c5fec2"
      },
      "source": [
        "E.g. Pauli X ($\\sigma_x$), the bit flip:"
      ]
    },
    {
      "cell_type": "code",
      "execution_count": null,
      "id": "290462f3",
      "metadata": {
        "tags": [],
        "id": "290462f3",
        "outputId": "be750c1f-f20a-4b2a-efab-c109988cfe60"
      },
      "outputs": [
        {
          "data": {
            "text/latex": [
              "$$\n",
              "\n",
              "\\begin{bmatrix}\n",
              "0 & 1  \\\\\n",
              " 1 & 0  \\\\\n",
              " \\end{bmatrix}\n",
              "$$"
            ],
            "text/plain": [
              "<IPython.core.display.Latex object>"
            ]
          },
          "execution_count": 28,
          "metadata": {},
          "output_type": "execute_result"
        }
      ],
      "source": [
        "pauli_x = Pauli('X')\n",
        "\n",
        "array_to_latex(pauli_x)"
      ]
    },
    {
      "cell_type": "markdown",
      "id": "ff2d5d30",
      "metadata": {
        "id": "ff2d5d30"
      },
      "source": [
        "Pauli Y ($\\sigma_y$):"
      ]
    },
    {
      "cell_type": "code",
      "execution_count": null,
      "id": "21b32f55",
      "metadata": {
        "tags": [],
        "id": "21b32f55",
        "outputId": "a27a7e66-47b3-40da-9f3b-77c19695749e"
      },
      "outputs": [
        {
          "data": {
            "text/latex": [
              "$$\n",
              "\n",
              "\\begin{bmatrix}\n",
              "0 & - i  \\\\\n",
              " i & 0  \\\\\n",
              " \\end{bmatrix}\n",
              "$$"
            ],
            "text/plain": [
              "<IPython.core.display.Latex object>"
            ]
          },
          "execution_count": 29,
          "metadata": {},
          "output_type": "execute_result"
        }
      ],
      "source": [
        "pauli_y = Pauli('Y')\n",
        "\n",
        "array_to_latex(pauli_y)"
      ]
    },
    {
      "cell_type": "markdown",
      "id": "c9850043",
      "metadata": {
        "id": "c9850043"
      },
      "source": [
        "Pauli Z ($\\sigma_z$), the phase flip:"
      ]
    },
    {
      "cell_type": "code",
      "execution_count": null,
      "id": "9df1dff2",
      "metadata": {
        "tags": [],
        "id": "9df1dff2",
        "outputId": "de3d16d1-dc51-45cf-bb21-b4a85df2c280"
      },
      "outputs": [
        {
          "data": {
            "text/latex": [
              "$$\n",
              "\n",
              "\\begin{bmatrix}\n",
              "1 & 0  \\\\\n",
              " 0 & -1  \\\\\n",
              " \\end{bmatrix}\n",
              "$$"
            ],
            "text/plain": [
              "<IPython.core.display.Latex object>"
            ]
          },
          "execution_count": 30,
          "metadata": {},
          "output_type": "execute_result"
        }
      ],
      "source": [
        "pauli_z = Pauli('Z')\n",
        "\n",
        "array_to_latex(pauli_z)"
      ]
    },
    {
      "cell_type": "markdown",
      "id": "bdfa41f0",
      "metadata": {
        "id": "bdfa41f0"
      },
      "source": [
        "We can use the `Operator` class with the `Pauli` class:"
      ]
    },
    {
      "cell_type": "code",
      "execution_count": null,
      "id": "71eb657f",
      "metadata": {
        "tags": [],
        "id": "71eb657f",
        "outputId": "3492a627-bd0b-455e-84a6-3bd7217dbe5c"
      },
      "outputs": [
        {
          "data": {
            "text/plain": [
              "Operator([[0.+0.j, 1.+0.j],\n",
              "          [1.+0.j, 0.+0.j]],\n",
              "         input_dims=(2,), output_dims=(2,))"
            ]
          },
          "execution_count": 31,
          "metadata": {},
          "output_type": "execute_result"
        }
      ],
      "source": [
        "op_x = Operator(pauli_x)\n",
        "\n",
        "op_x"
      ]
    },
    {
      "cell_type": "markdown",
      "id": "22a1dc55",
      "metadata": {
        "id": "22a1dc55"
      },
      "source": [
        "Let's use the `Operator` class and numpy to find the outcome of $\\sigma_x|0\\rangle$"
      ]
    },
    {
      "cell_type": "code",
      "execution_count": null,
      "id": "a3b46f65",
      "metadata": {
        "tags": [],
        "id": "a3b46f65",
        "outputId": "5aef6594-70a3-406b-8a45-17ea010deaa3"
      },
      "outputs": [
        {
          "data": {
            "text/latex": [
              "$$\n",
              "\n",
              "\\begin{bmatrix}\n",
              "0  \\\\\n",
              " 1  \\\\\n",
              " \\end{bmatrix}\n",
              "$$"
            ],
            "text/plain": [
              "<IPython.core.display.Latex object>"
            ]
          },
          "execution_count": 32,
          "metadata": {},
          "output_type": "execute_result"
        }
      ],
      "source": [
        "op_new = np.dot(op_x,ket0)\n",
        "\n",
        "array_to_latex(op_new)"
      ]
    },
    {
      "cell_type": "markdown",
      "id": "0434735a",
      "metadata": {
        "id": "0434735a"
      },
      "source": [
        "<div class=\"alert alert-block alert-success\"> Ex 7 - Apply the Pauli-Z operator on $|1\\rangle$ </div>"
      ]
    },
    {
      "cell_type": "code",
      "execution_count": 76,
      "id": "11ea5267",
      "metadata": {
        "tags": [],
        "id": "11ea5267"
      },
      "outputs": [],
      "source": [
        "result = np.dot(Operator(pauli_z),ket1)"
      ]
    },
    {
      "cell_type": "markdown",
      "id": "677ab1ec",
      "metadata": {
        "id": "677ab1ec"
      },
      "source": [
        "### Qubit Unitary Operations - Hadamard\n"
      ]
    },
    {
      "cell_type": "markdown",
      "id": "1fa9f846",
      "metadata": {
        "id": "1fa9f846"
      },
      "source": [
        "The Hadamard gate is one of the most important unitary operations in quantum computing. We can implement a Hadamard gate (and many other quantum gates) using a class from [Qiskit's circuit library](https://qiskit.org/documentation/apidoc/circuit_library.html):"
      ]
    },
    {
      "cell_type": "code",
      "execution_count": null,
      "id": "74251a81",
      "metadata": {
        "tags": [],
        "id": "74251a81",
        "outputId": "01d7057f-236a-4d63-e36f-cbc5b6b6e75f"
      },
      "outputs": [
        {
          "data": {
            "text/latex": [
              "$$\n",
              "\n",
              "\\begin{bmatrix}\n",
              "\\frac{\\sqrt{2}}{2} & \\frac{\\sqrt{2}}{2}  \\\\\n",
              " \\frac{\\sqrt{2}}{2} & - \\frac{\\sqrt{2}}{2}  \\\\\n",
              " \\end{bmatrix}\n",
              "$$"
            ],
            "text/plain": [
              "<IPython.core.display.Latex object>"
            ]
          },
          "execution_count": 34,
          "metadata": {},
          "output_type": "execute_result"
        }
      ],
      "source": [
        "hadamard = HGate()\n",
        "\n",
        "array_to_latex(hadamard)"
      ]
    },
    {
      "cell_type": "markdown",
      "id": "08b41da3",
      "metadata": {
        "id": "08b41da3"
      },
      "source": [
        "You can convert many Qiskit classes to operators to make use of functions specific to the `Operator` class, such as `is_unitary`"
      ]
    },
    {
      "cell_type": "code",
      "execution_count": null,
      "id": "ebc2f8df",
      "metadata": {
        "tags": [],
        "id": "ebc2f8df",
        "outputId": "f05c99d3-be59-4ecd-b64a-002a42ad491a"
      },
      "outputs": [
        {
          "data": {
            "text/plain": [
              "True"
            ]
          },
          "execution_count": 35,
          "metadata": {},
          "output_type": "execute_result"
        }
      ],
      "source": [
        "hop = Operator(hadamard)\n",
        "hop.is_unitary()"
      ]
    },
    {
      "cell_type": "markdown",
      "id": "aa5207cc",
      "metadata": {
        "id": "aa5207cc"
      },
      "source": [
        "## Quantum Circuits\n",
        "\n",
        "In the lectures you learned how to create a Quantum Circuit using a CNOT and a Hadamard gate. This circuit creates the Bell State $|\\phi^+\\rangle$. We can implement this using Qiskit's `QuantumCircuit` class:"
      ]
    },
    {
      "cell_type": "code",
      "source": [
        "pip install pylatexenc"
      ],
      "metadata": {
        "colab": {
          "base_uri": "https://localhost:8080/"
        },
        "id": "FtdVThd_NVdk",
        "outputId": "7578435f-bc5a-45b4-8e35-82b325746d92"
      },
      "id": "FtdVThd_NVdk",
      "execution_count": 84,
      "outputs": [
        {
          "output_type": "stream",
          "name": "stdout",
          "text": [
            "Requirement already satisfied: pylatexenc in /usr/local/lib/python3.10/dist-packages (2.10)\n"
          ]
        }
      ]
    },
    {
      "cell_type": "code",
      "source": [
        "from pylatexenc import *"
      ],
      "metadata": {
        "id": "NlVrLC2qNZbc"
      },
      "id": "NlVrLC2qNZbc",
      "execution_count": 83,
      "outputs": []
    },
    {
      "cell_type": "code",
      "execution_count": 80,
      "id": "c1b3e5a9",
      "metadata": {
        "tags": [],
        "id": "c1b3e5a9",
        "outputId": "f63ff125-ae62-4b72-d2a6-a2b0208a5285",
        "colab": {
          "base_uri": "https://localhost:8080/",
          "height": 511
        }
      },
      "outputs": [
        {
          "output_type": "error",
          "ename": "MissingOptionalLibraryError",
          "evalue": "ignored",
          "traceback": [
            "\u001b[0;31m---------------------------------------------------------------------------\u001b[0m",
            "\u001b[0;31mMissingOptionalLibraryError\u001b[0m               Traceback (most recent call last)",
            "\u001b[0;32m<ipython-input-80-2044ca595923>\u001b[0m in \u001b[0;36m<cell line: 6>\u001b[0;34m()\u001b[0m\n\u001b[1;32m      4\u001b[0m \u001b[0mbell\u001b[0m\u001b[0;34m.\u001b[0m\u001b[0mcx\u001b[0m\u001b[0;34m(\u001b[0m\u001b[0;36m0\u001b[0m\u001b[0;34m,\u001b[0m\u001b[0;36m1\u001b[0m\u001b[0;34m)\u001b[0m \u001b[0;31m# apply a CNOT gate to the circuit\u001b[0m\u001b[0;34m\u001b[0m\u001b[0;34m\u001b[0m\u001b[0m\n\u001b[1;32m      5\u001b[0m \u001b[0;34m\u001b[0m\u001b[0m\n\u001b[0;32m----> 6\u001b[0;31m \u001b[0mbell\u001b[0m\u001b[0;34m.\u001b[0m\u001b[0mdraw\u001b[0m\u001b[0;34m(\u001b[0m\u001b[0moutput\u001b[0m\u001b[0;34m=\u001b[0m\u001b[0;34m\"mpl\"\u001b[0m\u001b[0;34m)\u001b[0m\u001b[0;34m\u001b[0m\u001b[0;34m\u001b[0m\u001b[0m\n\u001b[0m",
            "\u001b[0;32m/usr/local/lib/python3.10/dist-packages/qiskit/circuit/quantumcircuit.py\u001b[0m in \u001b[0;36mdraw\u001b[0;34m(self, output, scale, filename, style, interactive, plot_barriers, reverse_bits, justify, vertical_compression, idle_wires, with_layout, fold, ax, initial_state, cregbundle, wire_order, expr_len)\u001b[0m\n\u001b[1;32m   1805\u001b[0m         \u001b[0;32mfrom\u001b[0m \u001b[0mqiskit\u001b[0m\u001b[0;34m.\u001b[0m\u001b[0mvisualization\u001b[0m \u001b[0;32mimport\u001b[0m \u001b[0mcircuit_drawer\u001b[0m\u001b[0;34m\u001b[0m\u001b[0;34m\u001b[0m\u001b[0m\n\u001b[1;32m   1806\u001b[0m \u001b[0;34m\u001b[0m\u001b[0m\n\u001b[0;32m-> 1807\u001b[0;31m         return circuit_drawer(\n\u001b[0m\u001b[1;32m   1808\u001b[0m             \u001b[0mself\u001b[0m\u001b[0;34m,\u001b[0m\u001b[0;34m\u001b[0m\u001b[0;34m\u001b[0m\u001b[0m\n\u001b[1;32m   1809\u001b[0m             \u001b[0mscale\u001b[0m\u001b[0;34m=\u001b[0m\u001b[0mscale\u001b[0m\u001b[0;34m,\u001b[0m\u001b[0;34m\u001b[0m\u001b[0;34m\u001b[0m\u001b[0m\n",
            "\u001b[0;32m/usr/local/lib/python3.10/dist-packages/qiskit/visualization/circuit/circuit_visualization.py\u001b[0m in \u001b[0;36mcircuit_drawer\u001b[0;34m(circuit, scale, filename, style, output, interactive, plot_barriers, reverse_bits, justify, vertical_compression, idle_wires, with_layout, fold, ax, initial_state, cregbundle, wire_order, expr_len)\u001b[0m\n\u001b[1;32m    319\u001b[0m         )\n\u001b[1;32m    320\u001b[0m     \u001b[0;32melif\u001b[0m \u001b[0moutput\u001b[0m \u001b[0;34m==\u001b[0m \u001b[0;34m\"mpl\"\u001b[0m\u001b[0;34m:\u001b[0m\u001b[0;34m\u001b[0m\u001b[0;34m\u001b[0m\u001b[0m\n\u001b[0;32m--> 321\u001b[0;31m         image = _matplotlib_circuit_drawer(\n\u001b[0m\u001b[1;32m    322\u001b[0m             \u001b[0mcircuit\u001b[0m\u001b[0;34m,\u001b[0m\u001b[0;34m\u001b[0m\u001b[0;34m\u001b[0m\u001b[0m\n\u001b[1;32m    323\u001b[0m             \u001b[0mscale\u001b[0m\u001b[0;34m=\u001b[0m\u001b[0mscale\u001b[0m\u001b[0;34m,\u001b[0m\u001b[0;34m\u001b[0m\u001b[0;34m\u001b[0m\u001b[0m\n",
            "\u001b[0;32m/usr/local/lib/python3.10/dist-packages/qiskit/visualization/circuit/circuit_visualization.py\u001b[0m in \u001b[0;36m_matplotlib_circuit_drawer\u001b[0;34m(circuit, scale, filename, style, plot_barriers, reverse_bits, justify, idle_wires, with_layout, fold, ax, initial_state, cregbundle, wire_order, expr_len)\u001b[0m\n\u001b[1;32m    699\u001b[0m         \u001b[0mfold\u001b[0m \u001b[0;34m=\u001b[0m \u001b[0;36m25\u001b[0m\u001b[0;34m\u001b[0m\u001b[0;34m\u001b[0m\u001b[0m\n\u001b[1;32m    700\u001b[0m \u001b[0;34m\u001b[0m\u001b[0m\n\u001b[0;32m--> 701\u001b[0;31m     qcd = _matplotlib.MatplotlibDrawer(\n\u001b[0m\u001b[1;32m    702\u001b[0m         \u001b[0mqubits\u001b[0m\u001b[0;34m,\u001b[0m\u001b[0;34m\u001b[0m\u001b[0;34m\u001b[0m\u001b[0m\n\u001b[1;32m    703\u001b[0m         \u001b[0mclbits\u001b[0m\u001b[0;34m,\u001b[0m\u001b[0;34m\u001b[0m\u001b[0;34m\u001b[0m\u001b[0m\n",
            "\u001b[0;32m/usr/local/lib/python3.10/dist-packages/qiskit/utils/classtools.py\u001b[0m in \u001b[0;36mout\u001b[0;34m(*args, **kwargs)\u001b[0m\n\u001b[1;32m    109\u001b[0m         \u001b[0;32mdef\u001b[0m \u001b[0mout\u001b[0m\u001b[0;34m(\u001b[0m\u001b[0;34m*\u001b[0m\u001b[0margs\u001b[0m\u001b[0;34m,\u001b[0m \u001b[0;34m**\u001b[0m\u001b[0mkwargs\u001b[0m\u001b[0;34m)\u001b[0m\u001b[0;34m:\u001b[0m\u001b[0;34m\u001b[0m\u001b[0;34m\u001b[0m\u001b[0m\n\u001b[1;32m    110\u001b[0m             \u001b[0;32mfor\u001b[0m \u001b[0mcallback\u001b[0m \u001b[0;32min\u001b[0m \u001b[0mself\u001b[0m\u001b[0;34m.\u001b[0m\u001b[0m_before\u001b[0m\u001b[0;34m:\u001b[0m\u001b[0;34m\u001b[0m\u001b[0;34m\u001b[0m\u001b[0m\n\u001b[0;32m--> 111\u001b[0;31m                 \u001b[0mcallback\u001b[0m\u001b[0;34m.\u001b[0m\u001b[0m__get__\u001b[0m\u001b[0;34m(\u001b[0m\u001b[0mobj\u001b[0m\u001b[0;34m,\u001b[0m \u001b[0mobjtype\u001b[0m\u001b[0;34m)\u001b[0m\u001b[0;34m(\u001b[0m\u001b[0;34m*\u001b[0m\u001b[0margs\u001b[0m\u001b[0;34m,\u001b[0m \u001b[0;34m**\u001b[0m\u001b[0mkwargs\u001b[0m\u001b[0;34m)\u001b[0m\u001b[0;34m\u001b[0m\u001b[0;34m\u001b[0m\u001b[0m\n\u001b[0m\u001b[1;32m    112\u001b[0m             \u001b[0mretval\u001b[0m \u001b[0;34m=\u001b[0m \u001b[0mmethod\u001b[0m\u001b[0;34m(\u001b[0m\u001b[0;34m*\u001b[0m\u001b[0margs\u001b[0m\u001b[0;34m,\u001b[0m \u001b[0;34m**\u001b[0m\u001b[0mkwargs\u001b[0m\u001b[0;34m)\u001b[0m\u001b[0;34m\u001b[0m\u001b[0;34m\u001b[0m\u001b[0m\n\u001b[1;32m    113\u001b[0m             \u001b[0;32mfor\u001b[0m \u001b[0mcallback\u001b[0m \u001b[0;32min\u001b[0m \u001b[0mself\u001b[0m\u001b[0;34m.\u001b[0m\u001b[0m_after\u001b[0m\u001b[0;34m:\u001b[0m\u001b[0;34m\u001b[0m\u001b[0;34m\u001b[0m\u001b[0m\n",
            "\u001b[0;32m/usr/local/lib/python3.10/dist-packages/qiskit/utils/lazy_tester.py\u001b[0m in \u001b[0;36m__call__\u001b[0;34m(self, *_args, **_kwargs)\u001b[0m\n\u001b[1;32m     37\u001b[0m \u001b[0;34m\u001b[0m\u001b[0m\n\u001b[1;32m     38\u001b[0m     \u001b[0;32mdef\u001b[0m \u001b[0m__call__\u001b[0m\u001b[0;34m(\u001b[0m\u001b[0mself\u001b[0m\u001b[0;34m,\u001b[0m \u001b[0;34m*\u001b[0m\u001b[0m_args\u001b[0m\u001b[0;34m,\u001b[0m \u001b[0;34m**\u001b[0m\u001b[0m_kwargs\u001b[0m\u001b[0;34m)\u001b[0m\u001b[0;34m:\u001b[0m\u001b[0;34m\u001b[0m\u001b[0;34m\u001b[0m\u001b[0m\n\u001b[0;32m---> 39\u001b[0;31m         \u001b[0mself\u001b[0m\u001b[0;34m.\u001b[0m\u001b[0m_tester\u001b[0m\u001b[0;34m.\u001b[0m\u001b[0mrequire_now\u001b[0m\u001b[0;34m(\u001b[0m\u001b[0mself\u001b[0m\u001b[0;34m.\u001b[0m\u001b[0m_feature\u001b[0m\u001b[0;34m)\u001b[0m\u001b[0;34m\u001b[0m\u001b[0;34m\u001b[0m\u001b[0m\n\u001b[0m\u001b[1;32m     40\u001b[0m \u001b[0;34m\u001b[0m\u001b[0m\n\u001b[1;32m     41\u001b[0m \u001b[0;34m\u001b[0m\u001b[0m\n",
            "\u001b[0;32m/usr/local/lib/python3.10/dist-packages/qiskit/utils/lazy_tester.py\u001b[0m in \u001b[0;36mrequire_now\u001b[0;34m(self, feature)\u001b[0m\n\u001b[1;32m    221\u001b[0m         \u001b[0;32mif\u001b[0m \u001b[0mself\u001b[0m\u001b[0;34m:\u001b[0m\u001b[0;34m\u001b[0m\u001b[0;34m\u001b[0m\u001b[0m\n\u001b[1;32m    222\u001b[0m             \u001b[0;32mreturn\u001b[0m\u001b[0;34m\u001b[0m\u001b[0;34m\u001b[0m\u001b[0m\n\u001b[0;32m--> 223\u001b[0;31m         raise MissingOptionalLibraryError(\n\u001b[0m\u001b[1;32m    224\u001b[0m             \u001b[0mlibname\u001b[0m\u001b[0;34m=\u001b[0m\u001b[0mself\u001b[0m\u001b[0;34m.\u001b[0m\u001b[0m_name\u001b[0m\u001b[0;34m,\u001b[0m \u001b[0mname\u001b[0m\u001b[0;34m=\u001b[0m\u001b[0mfeature\u001b[0m\u001b[0;34m,\u001b[0m \u001b[0mpip_install\u001b[0m\u001b[0;34m=\u001b[0m\u001b[0mself\u001b[0m\u001b[0;34m.\u001b[0m\u001b[0m_install\u001b[0m\u001b[0;34m,\u001b[0m \u001b[0mmsg\u001b[0m\u001b[0;34m=\u001b[0m\u001b[0mself\u001b[0m\u001b[0;34m.\u001b[0m\u001b[0m_msg\u001b[0m\u001b[0;34m\u001b[0m\u001b[0;34m\u001b[0m\u001b[0m\n\u001b[1;32m    225\u001b[0m         )\n",
            "\u001b[0;31mMissingOptionalLibraryError\u001b[0m: \"The 'pylatexenc' library is required to use 'MatplotlibDrawer'. You can install it with 'pip install pylatexenc'.\"",
            "",
            "\u001b[0;31m---------------------------------------------------------------------------\u001b[0;32m\nNOTE: If your import is failing due to a missing package, you can\nmanually install dependencies using either !pip or !apt.\n\nTo view examples of installing some common dependencies, click the\n\"Open Examples\" button below.\n\u001b[0;31m---------------------------------------------------------------------------\u001b[0m\n"
          ],
          "errorDetails": {
            "actions": [
              {
                "action": "open_url",
                "actionText": "Open Examples",
                "url": "/notebooks/snippets/importing_libraries.ipynb"
              }
            ]
          }
        }
      ],
      "source": [
        "bell = QuantumCircuit(2)\n",
        "\n",
        "bell.h(0) # apply an H gate to the circuit\n",
        "bell.cx(0,1) # apply a CNOT gate to the circuit\n",
        "\n",
        "bell.draw(output=\"mpl\")"
      ]
    },
    {
      "cell_type": "markdown",
      "id": "1b2a93c8",
      "metadata": {
        "id": "1b2a93c8"
      },
      "source": [
        "If we want to check what the matrix representation is of this quantum state we can convert the circuit directly to an operator:"
      ]
    },
    {
      "cell_type": "code",
      "execution_count": 79,
      "id": "ac8dab7c",
      "metadata": {
        "tags": [],
        "id": "ac8dab7c",
        "outputId": "e23084d0-cd27-49e3-cf76-beef8e87340f",
        "colab": {
          "base_uri": "https://localhost:8080/",
          "height": 112
        }
      },
      "outputs": [
        {
          "output_type": "execute_result",
          "data": {
            "text/plain": [
              "<IPython.core.display.Latex object>"
            ],
            "text/latex": "$$\n\n\\begin{bmatrix}\n\\frac{\\sqrt{2}}{2} & \\frac{\\sqrt{2}}{2} & 0 & 0  \\\\\n 0 & 0 & \\frac{\\sqrt{2}}{2} & - \\frac{\\sqrt{2}}{2}  \\\\\n 0 & 0 & \\frac{\\sqrt{2}}{2} & \\frac{\\sqrt{2}}{2}  \\\\\n \\frac{\\sqrt{2}}{2} & - \\frac{\\sqrt{2}}{2} & 0 & 0  \\\\\n \\end{bmatrix}\n$$"
          },
          "metadata": {},
          "execution_count": 79
        }
      ],
      "source": [
        "bell_op = Operator(bell)\n",
        "\n",
        "array_to_latex(bell_op)"
      ]
    },
    {
      "cell_type": "markdown",
      "id": "b2487769",
      "metadata": {
        "id": "b2487769"
      },
      "source": [
        "<div class=\"alert alert-block alert-success\"> Ex 8 - the GHZ state is similar to the Bell State but applied to 3 qubits. Create a quantum circuit outputting the GHZ state </div>"
      ]
    },
    {
      "cell_type": "code",
      "execution_count": null,
      "id": "f7469f9f",
      "metadata": {
        "tags": [],
        "id": "f7469f9f",
        "outputId": "d142b34b-e352-4dd8-c925-d36ea2c58b13"
      },
      "outputs": [
        {
          "data": {
            "image/png": "[encoded data removed]",
            "text/plain": [
              "<Figure size 162.08x284.278 with 1 Axes>"
            ]
          },
          "execution_count": 38,
          "metadata": {},
          "output_type": "execute_result"
        }
      ],
      "source": [
        "ghz = QuantumCircuit(3)\n",
        "\n",
        "##############################\n",
        "# add gates to your circuit here\n",
        "ghz.h(1)\n",
        "ghz.cx(0,1)\n",
        "ghz.cx(1,2)\n",
        "\n",
        "\n",
        "##############################\n",
        "\n",
        "ghz.draw(output='mpl')"
      ]
    },
    {
      "cell_type": "markdown",
      "id": "dec5eb53",
      "metadata": {
        "id": "dec5eb53"
      },
      "source": [
        "## Measuring Quantum states"
      ]
    },
    {
      "cell_type": "markdown",
      "id": "9d05a3cb",
      "metadata": {
        "id": "9d05a3cb"
      },
      "source": [
        "As explained in the lectures you can find the probability of measurement outcomes by taking the absolute value squared of the entries of a quantum state vector.\n",
        "\n",
        "For example, when measuring the + state:  \n",
        "\n",
        "$ |+\\rangle = \\frac{1}{\\sqrt2}|0\\rangle + \\frac{1}{\\sqrt2}|1\\rangle $\n",
        "\n",
        "The probability of measuring 0 or 1 is given by the following:\n",
        "\n",
        "$ Pr(0) = |\\frac{1}{\\sqrt2}|^2 = \\frac{1}{2}$  \n",
        "$ Pr(1) = |\\frac{1}{\\sqrt2}|^2 = \\frac{1}{2}$"
      ]
    },
    {
      "cell_type": "markdown",
      "id": "09b17e63",
      "metadata": {
        "id": "09b17e63"
      },
      "source": [
        "Let's create a $|+\\rangle$ using the `Statevector` class:"
      ]
    },
    {
      "cell_type": "code",
      "execution_count": 85,
      "id": "819fdc56",
      "metadata": {
        "tags": [],
        "id": "819fdc56",
        "outputId": "7890d8a2-3fe9-444c-8386-ffb6b3909760",
        "colab": {
          "base_uri": "https://localhost:8080/",
          "height": 40
        }
      },
      "outputs": [
        {
          "output_type": "execute_result",
          "data": {
            "text/plain": [
              "<IPython.core.display.Latex object>"
            ],
            "text/latex": "$$\\frac{\\sqrt{2}}{2} |0\\rangle+\\frac{\\sqrt{2}}{2} |1\\rangle$$"
          },
          "metadata": {},
          "execution_count": 85
        }
      ],
      "source": [
        "plus_state = Statevector.from_label(\"+\")\n",
        "\n",
        "plus_state.draw('latex')"
      ]
    },
    {
      "cell_type": "code",
      "execution_count": 86,
      "id": "4c7849e7",
      "metadata": {
        "tags": [],
        "id": "4c7849e7",
        "outputId": "8876bac7-c094-4f2c-f550-cd9cce3993f3",
        "colab": {
          "base_uri": "https://localhost:8080/"
        }
      },
      "outputs": [
        {
          "output_type": "stream",
          "name": "stdout",
          "text": [
            "Statevector([0.70710678+0.j, 0.70710678+0.j],\n",
            "            dims=(2,))\n"
          ]
        }
      ],
      "source": [
        "plus_state"
      ]
    },
    {
      "cell_type": "markdown",
      "id": "e9367460",
      "metadata": {
        "id": "e9367460"
      },
      "source": [
        "Now we can get the probability of measuring 0 or 1:"
      ]
    },
    {
      "cell_type": "code",
      "execution_count": 87,
      "id": "4b954ae3",
      "metadata": {
        "tags": [],
        "id": "4b954ae3",
        "outputId": "f8e6f9c2-e46c-4f04-be76-692e6fd918bc",
        "colab": {
          "base_uri": "https://localhost:8080/"
        }
      },
      "outputs": [
        {
          "output_type": "execute_result",
          "data": {
            "text/plain": [
              "{'0': 0.4999999999999999, '1': 0.4999999999999999}"
            ]
          },
          "metadata": {},
          "execution_count": 87
        }
      ],
      "source": [
        "plus_state.probabilities_dict()"
      ]
    },
    {
      "cell_type": "markdown",
      "id": "62b9c13c",
      "metadata": {
        "id": "62b9c13c"
      },
      "source": [
        "The dictionary object above shows you all the possible measurement outcomes and what the probability is of getting them. The actual act of measuring forces the state to collapse into either the 0 or 1 state:"
      ]
    },
    {
      "cell_type": "code",
      "execution_count": 93,
      "id": "546166ed",
      "metadata": {
        "tags": [],
        "id": "546166ed",
        "outputId": "92454a7f-5674-413f-b292-663f8861a0b5",
        "colab": {
          "base_uri": "https://localhost:8080/"
        }
      },
      "outputs": [
        {
          "output_type": "execute_result",
          "data": {
            "text/plain": [
              "('1',\n",
              " Statevector([0.+0.j, 1.+0.j],\n",
              "             dims=(2,)))"
            ]
          },
          "metadata": {},
          "execution_count": 93
        }
      ],
      "source": [
        "# run this cell multiple times to show collapsing into one state or the other\n",
        "res = plus_state.measure()\n",
        "\n",
        "res"
      ]
    },
    {
      "cell_type": "markdown",
      "id": "cbf9efbb",
      "metadata": {
        "id": "cbf9efbb"
      },
      "source": [
        "We can implement the same $|+\\rangle$ state with measurement using a quantum circuit:"
      ]
    },
    {
      "cell_type": "code",
      "execution_count": 94,
      "id": "6af8a51d",
      "metadata": {
        "tags": [],
        "id": "6af8a51d",
        "outputId": "f55fa756-5cdd-4919-b118-0dafa1531a17",
        "colab": {
          "base_uri": "https://localhost:8080/",
          "height": 511
        }
      },
      "outputs": [
        {
          "output_type": "error",
          "ename": "MissingOptionalLibraryError",
          "evalue": "ignored",
          "traceback": [
            "\u001b[0;31m---------------------------------------------------------------------------\u001b[0m",
            "\u001b[0;31mMissingOptionalLibraryError\u001b[0m               Traceback (most recent call last)",
            "\u001b[0;32m<ipython-input-94-a54ddc151709>\u001b[0m in \u001b[0;36m<cell line: 5>\u001b[0;34m()\u001b[0m\n\u001b[1;32m      3\u001b[0m \u001b[0mqc\u001b[0m\u001b[0;34m.\u001b[0m\u001b[0mmeasure\u001b[0m\u001b[0;34m(\u001b[0m\u001b[0;36m0\u001b[0m\u001b[0;34m,\u001b[0m \u001b[0;36m0\u001b[0m\u001b[0;34m)\u001b[0m\u001b[0;34m\u001b[0m\u001b[0;34m\u001b[0m\u001b[0m\n\u001b[1;32m      4\u001b[0m \u001b[0;34m\u001b[0m\u001b[0m\n\u001b[0;32m----> 5\u001b[0;31m \u001b[0mqc\u001b[0m\u001b[0;34m.\u001b[0m\u001b[0mdraw\u001b[0m\u001b[0;34m(\u001b[0m\u001b[0moutput\u001b[0m\u001b[0;34m=\u001b[0m\u001b[0;34m\"mpl\"\u001b[0m\u001b[0;34m)\u001b[0m\u001b[0;34m\u001b[0m\u001b[0;34m\u001b[0m\u001b[0m\n\u001b[0m",
            "\u001b[0;32m/usr/local/lib/python3.10/dist-packages/qiskit/circuit/quantumcircuit.py\u001b[0m in \u001b[0;36mdraw\u001b[0;34m(self, output, scale, filename, style, interactive, plot_barriers, reverse_bits, justify, vertical_compression, idle_wires, with_layout, fold, ax, initial_state, cregbundle, wire_order, expr_len)\u001b[0m\n\u001b[1;32m   1805\u001b[0m         \u001b[0;32mfrom\u001b[0m \u001b[0mqiskit\u001b[0m\u001b[0;34m.\u001b[0m\u001b[0mvisualization\u001b[0m \u001b[0;32mimport\u001b[0m \u001b[0mcircuit_drawer\u001b[0m\u001b[0;34m\u001b[0m\u001b[0;34m\u001b[0m\u001b[0m\n\u001b[1;32m   1806\u001b[0m \u001b[0;34m\u001b[0m\u001b[0m\n\u001b[0;32m-> 1807\u001b[0;31m         return circuit_drawer(\n\u001b[0m\u001b[1;32m   1808\u001b[0m             \u001b[0mself\u001b[0m\u001b[0;34m,\u001b[0m\u001b[0;34m\u001b[0m\u001b[0;34m\u001b[0m\u001b[0m\n\u001b[1;32m   1809\u001b[0m             \u001b[0mscale\u001b[0m\u001b[0;34m=\u001b[0m\u001b[0mscale\u001b[0m\u001b[0;34m,\u001b[0m\u001b[0;34m\u001b[0m\u001b[0;34m\u001b[0m\u001b[0m\n",
            "\u001b[0;32m/usr/local/lib/python3.10/dist-packages/qiskit/visualization/circuit/circuit_visualization.py\u001b[0m in \u001b[0;36mcircuit_drawer\u001b[0;34m(circuit, scale, filename, style, output, interactive, plot_barriers, reverse_bits, justify, vertical_compression, idle_wires, with_layout, fold, ax, initial_state, cregbundle, wire_order, expr_len)\u001b[0m\n\u001b[1;32m    319\u001b[0m         )\n\u001b[1;32m    320\u001b[0m     \u001b[0;32melif\u001b[0m \u001b[0moutput\u001b[0m \u001b[0;34m==\u001b[0m \u001b[0;34m\"mpl\"\u001b[0m\u001b[0;34m:\u001b[0m\u001b[0;34m\u001b[0m\u001b[0;34m\u001b[0m\u001b[0m\n\u001b[0;32m--> 321\u001b[0;31m         image = _matplotlib_circuit_drawer(\n\u001b[0m\u001b[1;32m    322\u001b[0m             \u001b[0mcircuit\u001b[0m\u001b[0;34m,\u001b[0m\u001b[0;34m\u001b[0m\u001b[0;34m\u001b[0m\u001b[0m\n\u001b[1;32m    323\u001b[0m             \u001b[0mscale\u001b[0m\u001b[0;34m=\u001b[0m\u001b[0mscale\u001b[0m\u001b[0;34m,\u001b[0m\u001b[0;34m\u001b[0m\u001b[0;34m\u001b[0m\u001b[0m\n",
            "\u001b[0;32m/usr/local/lib/python3.10/dist-packages/qiskit/visualization/circuit/circuit_visualization.py\u001b[0m in \u001b[0;36m_matplotlib_circuit_drawer\u001b[0;34m(circuit, scale, filename, style, plot_barriers, reverse_bits, justify, idle_wires, with_layout, fold, ax, initial_state, cregbundle, wire_order, expr_len)\u001b[0m\n\u001b[1;32m    699\u001b[0m         \u001b[0mfold\u001b[0m \u001b[0;34m=\u001b[0m \u001b[0;36m25\u001b[0m\u001b[0;34m\u001b[0m\u001b[0;34m\u001b[0m\u001b[0m\n\u001b[1;32m    700\u001b[0m \u001b[0;34m\u001b[0m\u001b[0m\n\u001b[0;32m--> 701\u001b[0;31m     qcd = _matplotlib.MatplotlibDrawer(\n\u001b[0m\u001b[1;32m    702\u001b[0m         \u001b[0mqubits\u001b[0m\u001b[0;34m,\u001b[0m\u001b[0;34m\u001b[0m\u001b[0;34m\u001b[0m\u001b[0m\n\u001b[1;32m    703\u001b[0m         \u001b[0mclbits\u001b[0m\u001b[0;34m,\u001b[0m\u001b[0;34m\u001b[0m\u001b[0;34m\u001b[0m\u001b[0m\n",
            "\u001b[0;32m/usr/local/lib/python3.10/dist-packages/qiskit/utils/classtools.py\u001b[0m in \u001b[0;36mout\u001b[0;34m(*args, **kwargs)\u001b[0m\n\u001b[1;32m    109\u001b[0m         \u001b[0;32mdef\u001b[0m \u001b[0mout\u001b[0m\u001b[0;34m(\u001b[0m\u001b[0;34m*\u001b[0m\u001b[0margs\u001b[0m\u001b[0;34m,\u001b[0m \u001b[0;34m**\u001b[0m\u001b[0mkwargs\u001b[0m\u001b[0;34m)\u001b[0m\u001b[0;34m:\u001b[0m\u001b[0;34m\u001b[0m\u001b[0;34m\u001b[0m\u001b[0m\n\u001b[1;32m    110\u001b[0m             \u001b[0;32mfor\u001b[0m \u001b[0mcallback\u001b[0m \u001b[0;32min\u001b[0m \u001b[0mself\u001b[0m\u001b[0;34m.\u001b[0m\u001b[0m_before\u001b[0m\u001b[0;34m:\u001b[0m\u001b[0;34m\u001b[0m\u001b[0;34m\u001b[0m\u001b[0m\n\u001b[0;32m--> 111\u001b[0;31m                 \u001b[0mcallback\u001b[0m\u001b[0;34m.\u001b[0m\u001b[0m__get__\u001b[0m\u001b[0;34m(\u001b[0m\u001b[0mobj\u001b[0m\u001b[0;34m,\u001b[0m \u001b[0mobjtype\u001b[0m\u001b[0;34m)\u001b[0m\u001b[0;34m(\u001b[0m\u001b[0;34m*\u001b[0m\u001b[0margs\u001b[0m\u001b[0;34m,\u001b[0m \u001b[0;34m**\u001b[0m\u001b[0mkwargs\u001b[0m\u001b[0;34m)\u001b[0m\u001b[0;34m\u001b[0m\u001b[0;34m\u001b[0m\u001b[0m\n\u001b[0m\u001b[1;32m    112\u001b[0m             \u001b[0mretval\u001b[0m \u001b[0;34m=\u001b[0m \u001b[0mmethod\u001b[0m\u001b[0;34m(\u001b[0m\u001b[0;34m*\u001b[0m\u001b[0margs\u001b[0m\u001b[0;34m,\u001b[0m \u001b[0;34m**\u001b[0m\u001b[0mkwargs\u001b[0m\u001b[0;34m)\u001b[0m\u001b[0;34m\u001b[0m\u001b[0;34m\u001b[0m\u001b[0m\n\u001b[1;32m    113\u001b[0m             \u001b[0;32mfor\u001b[0m \u001b[0mcallback\u001b[0m \u001b[0;32min\u001b[0m \u001b[0mself\u001b[0m\u001b[0;34m.\u001b[0m\u001b[0m_after\u001b[0m\u001b[0;34m:\u001b[0m\u001b[0;34m\u001b[0m\u001b[0;34m\u001b[0m\u001b[0m\n",
            "\u001b[0;32m/usr/local/lib/python3.10/dist-packages/qiskit/utils/lazy_tester.py\u001b[0m in \u001b[0;36m__call__\u001b[0;34m(self, *_args, **_kwargs)\u001b[0m\n\u001b[1;32m     37\u001b[0m \u001b[0;34m\u001b[0m\u001b[0m\n\u001b[1;32m     38\u001b[0m     \u001b[0;32mdef\u001b[0m \u001b[0m__call__\u001b[0m\u001b[0;34m(\u001b[0m\u001b[0mself\u001b[0m\u001b[0;34m,\u001b[0m \u001b[0;34m*\u001b[0m\u001b[0m_args\u001b[0m\u001b[0;34m,\u001b[0m \u001b[0;34m**\u001b[0m\u001b[0m_kwargs\u001b[0m\u001b[0;34m)\u001b[0m\u001b[0;34m:\u001b[0m\u001b[0;34m\u001b[0m\u001b[0;34m\u001b[0m\u001b[0m\n\u001b[0;32m---> 39\u001b[0;31m         \u001b[0mself\u001b[0m\u001b[0;34m.\u001b[0m\u001b[0m_tester\u001b[0m\u001b[0;34m.\u001b[0m\u001b[0mrequire_now\u001b[0m\u001b[0;34m(\u001b[0m\u001b[0mself\u001b[0m\u001b[0;34m.\u001b[0m\u001b[0m_feature\u001b[0m\u001b[0;34m)\u001b[0m\u001b[0;34m\u001b[0m\u001b[0;34m\u001b[0m\u001b[0m\n\u001b[0m\u001b[1;32m     40\u001b[0m \u001b[0;34m\u001b[0m\u001b[0m\n\u001b[1;32m     41\u001b[0m \u001b[0;34m\u001b[0m\u001b[0m\n",
            "\u001b[0;32m/usr/local/lib/python3.10/dist-packages/qiskit/utils/lazy_tester.py\u001b[0m in \u001b[0;36mrequire_now\u001b[0;34m(self, feature)\u001b[0m\n\u001b[1;32m    221\u001b[0m         \u001b[0;32mif\u001b[0m \u001b[0mself\u001b[0m\u001b[0;34m:\u001b[0m\u001b[0;34m\u001b[0m\u001b[0;34m\u001b[0m\u001b[0m\n\u001b[1;32m    222\u001b[0m             \u001b[0;32mreturn\u001b[0m\u001b[0;34m\u001b[0m\u001b[0;34m\u001b[0m\u001b[0m\n\u001b[0;32m--> 223\u001b[0;31m         raise MissingOptionalLibraryError(\n\u001b[0m\u001b[1;32m    224\u001b[0m             \u001b[0mlibname\u001b[0m\u001b[0;34m=\u001b[0m\u001b[0mself\u001b[0m\u001b[0;34m.\u001b[0m\u001b[0m_name\u001b[0m\u001b[0;34m,\u001b[0m \u001b[0mname\u001b[0m\u001b[0;34m=\u001b[0m\u001b[0mfeature\u001b[0m\u001b[0;34m,\u001b[0m \u001b[0mpip_install\u001b[0m\u001b[0;34m=\u001b[0m\u001b[0mself\u001b[0m\u001b[0;34m.\u001b[0m\u001b[0m_install\u001b[0m\u001b[0;34m,\u001b[0m \u001b[0mmsg\u001b[0m\u001b[0;34m=\u001b[0m\u001b[0mself\u001b[0m\u001b[0;34m.\u001b[0m\u001b[0m_msg\u001b[0m\u001b[0;34m\u001b[0m\u001b[0;34m\u001b[0m\u001b[0m\n\u001b[1;32m    225\u001b[0m         )\n",
            "\u001b[0;31mMissingOptionalLibraryError\u001b[0m: \"The 'pylatexenc' library is required to use 'MatplotlibDrawer'. You can install it with 'pip install pylatexenc'.\"",
            "",
            "\u001b[0;31m---------------------------------------------------------------------------\u001b[0;32m\nNOTE: If your import is failing due to a missing package, you can\nmanually install dependencies using either !pip or !apt.\n\nTo view examples of installing some common dependencies, click the\n\"Open Examples\" button below.\n\u001b[0;31m---------------------------------------------------------------------------\u001b[0m\n"
          ],
          "errorDetails": {
            "actions": [
              {
                "action": "open_url",
                "actionText": "Open Examples",
                "url": "/notebooks/snippets/importing_libraries.ipynb"
              }
            ]
          }
        }
      ],
      "source": [
        "qc = QuantumCircuit(1,1)\n",
        "qc.h(0)\n",
        "qc.measure(0, 0)\n",
        "\n",
        "qc.draw(output=\"mpl\")"
      ]
    },
    {
      "cell_type": "markdown",
      "id": "84e3a739",
      "metadata": {
        "id": "84e3a739"
      },
      "source": [
        "If we ran this circuit using a simulator we would get the same results as we did with the statevector class."
      ]
    },
    {
      "cell_type": "markdown",
      "id": "f3abea6e",
      "metadata": {
        "id": "f3abea6e"
      },
      "source": [
        "In the next example, let's use the `Statevector` class to find the measurement outcomes for a dependent, probabilistic state. We'll find the measurement probilities for the 2-qubit Bell State $|\\phi^+\\rangle$ :"
      ]
    },
    {
      "cell_type": "code",
      "execution_count": 96,
      "id": "f0c6e31d",
      "metadata": {
        "tags": [],
        "id": "f0c6e31d",
        "outputId": "2abb1796-bd8a-40bf-e443-4ddeb809b1ef",
        "colab": {
          "base_uri": "https://localhost:8080/",
          "height": 40
        }
      },
      "outputs": [
        {
          "output_type": "execute_result",
          "data": {
            "text/plain": [
              "<IPython.core.display.Latex object>"
            ],
            "text/latex": "$$\\frac{\\sqrt{2}}{2} |00\\rangle+\\frac{\\sqrt{2}}{2} |11\\rangle$$"
          },
          "metadata": {},
          "execution_count": 96
        }
      ],
      "source": [
        "sv_bell = Statevector([np.sqrt(1/2), 0, 0, np.sqrt(1/2)])\n",
        "\n",
        "sv_bell.draw('latex')"
      ]
    },
    {
      "cell_type": "code",
      "execution_count": 97,
      "id": "60aca301",
      "metadata": {
        "tags": [],
        "id": "60aca301",
        "outputId": "2fee6065-1078-4ffa-9096-4970c76c6d05",
        "colab": {
          "base_uri": "https://localhost:8080/"
        }
      },
      "outputs": [
        {
          "output_type": "execute_result",
          "data": {
            "text/plain": [
              "{'00': 0.5000000000000001, '11': 0.5000000000000001}"
            ]
          },
          "metadata": {},
          "execution_count": 97
        }
      ],
      "source": [
        "sv_bell.probabilities_dict()"
      ]
    },
    {
      "cell_type": "markdown",
      "id": "734489ba",
      "metadata": {
        "id": "734489ba"
      },
      "source": [
        "<div class=\"alert alert-block alert-success\"> Ex 9 - Using the Statevector class find the probabilities for the other 3 states in the Bell Basis: $|\\psi^+\\rangle$, $|\\psi^-\\rangle$, $|\\phi^-\\rangle$. Hint: check out lesson 2 to refresh your memory on the equations of the Bell states </div>"
      ]
    },
    {
      "cell_type": "code",
      "execution_count": 99,
      "id": "119714dd",
      "metadata": {
        "tags": [],
        "id": "119714dd",
        "outputId": "648aacf6-8597-4062-8171-ee8c27335629",
        "colab": {
          "base_uri": "https://localhost:8080/"
        }
      },
      "outputs": [
        {
          "output_type": "stream",
          "name": "stdout",
          "text": [
            "{'01': 0.4999999999999999, '10': 0.4999999999999999}\n"
          ]
        }
      ],
      "source": [
        "sv_psi_plus = (Statevector.from_label('00') + Statevector.from_label('11'))/np.sqrt(2)\n",
        "prob_psi_plus = sv_psi_plus.probabilities_dict()\n",
        "\n",
        "sv_psi_minus = (Statevector.from_label('00') - Statevector.from_label('11'))/np.sqrt(2)\n",
        "prob_psi_minus = sv_psi_minus.probabilities_dict()\n",
        "\n",
        "sv_phi_minus = (Statevector.from_label('01') - Statevector.from_label('10'))/np.sqrt(2)\n",
        "prob_phi_minus = sv_phi_minus.probabilities_dict()"
      ]
    },
    {
      "cell_type": "markdown",
      "id": "0faf6184",
      "metadata": {
        "id": "0faf6184"
      },
      "source": [
        "# Final Challenge - generate a QFT circuit\n",
        "\n",
        "[The Fourier transform](https://en.wikipedia.org/wiki/Fourier_transform) occurs in many different formats throughout classical computing, in areas ranging from signal processing to data compression to complexity theory. The quantum Fourier transform (QFT) is the quantum implementation of the discrete Fourier transform over the amplitudes of a wavefunction. It is part of many quantum algorithms, most notably Shor's factoring algorithm and quantum phase estimation. You'll learn more about this important implementation later, but for this final challenge of Lab 1 we would like you to use Qiskit to create the following QFT circuit on 2 qubits:\n",
        "\n",
        "![](./resources/qft.png)"
      ]
    },
    {
      "cell_type": "markdown",
      "id": "a06d2b68",
      "metadata": {
        "id": "a06d2b68"
      },
      "source": [
        "<div class=\"alert alert-block alert-success\"> Ex 10 - create a 2 qubit QFT circuit using qiskit </div>"
      ]
    },
    {
      "cell_type": "code",
      "source": [
        "import math"
      ],
      "metadata": {
        "id": "yr0XnojuRUt9"
      },
      "id": "yr0XnojuRUt9",
      "execution_count": 100,
      "outputs": []
    },
    {
      "cell_type": "code",
      "execution_count": 101,
      "id": "e51049ac",
      "metadata": {
        "tags": [],
        "id": "e51049ac",
        "outputId": "c2bcb6aa-bc42-4642-d6f6-38bb0de626fe",
        "colab": {
          "base_uri": "https://localhost:8080/",
          "height": 511
        }
      },
      "outputs": [
        {
          "output_type": "error",
          "ename": "MissingOptionalLibraryError",
          "evalue": "ignored",
          "traceback": [
            "\u001b[0;31m---------------------------------------------------------------------------\u001b[0m",
            "\u001b[0;31mMissingOptionalLibraryError\u001b[0m               Traceback (most recent call last)",
            "\u001b[0;32m<ipython-input-101-bcf430381113>\u001b[0m in \u001b[0;36m<cell line: 13>\u001b[0;34m()\u001b[0m\n\u001b[1;32m     11\u001b[0m \u001b[0;31m##############################\u001b[0m\u001b[0;34m\u001b[0m\u001b[0;34m\u001b[0m\u001b[0m\n\u001b[1;32m     12\u001b[0m \u001b[0;34m\u001b[0m\u001b[0m\n\u001b[0;32m---> 13\u001b[0;31m \u001b[0mqft\u001b[0m\u001b[0;34m.\u001b[0m\u001b[0mdraw\u001b[0m\u001b[0;34m(\u001b[0m\u001b[0moutput\u001b[0m\u001b[0;34m=\u001b[0m\u001b[0;34m'mpl'\u001b[0m\u001b[0;34m)\u001b[0m\u001b[0;34m\u001b[0m\u001b[0;34m\u001b[0m\u001b[0m\n\u001b[0m",
            "\u001b[0;32m/usr/local/lib/python3.10/dist-packages/qiskit/circuit/quantumcircuit.py\u001b[0m in \u001b[0;36mdraw\u001b[0;34m(self, output, scale, filename, style, interactive, plot_barriers, reverse_bits, justify, vertical_compression, idle_wires, with_layout, fold, ax, initial_state, cregbundle, wire_order, expr_len)\u001b[0m\n\u001b[1;32m   1805\u001b[0m         \u001b[0;32mfrom\u001b[0m \u001b[0mqiskit\u001b[0m\u001b[0;34m.\u001b[0m\u001b[0mvisualization\u001b[0m \u001b[0;32mimport\u001b[0m \u001b[0mcircuit_drawer\u001b[0m\u001b[0;34m\u001b[0m\u001b[0;34m\u001b[0m\u001b[0m\n\u001b[1;32m   1806\u001b[0m \u001b[0;34m\u001b[0m\u001b[0m\n\u001b[0;32m-> 1807\u001b[0;31m         return circuit_drawer(\n\u001b[0m\u001b[1;32m   1808\u001b[0m             \u001b[0mself\u001b[0m\u001b[0;34m,\u001b[0m\u001b[0;34m\u001b[0m\u001b[0;34m\u001b[0m\u001b[0m\n\u001b[1;32m   1809\u001b[0m             \u001b[0mscale\u001b[0m\u001b[0;34m=\u001b[0m\u001b[0mscale\u001b[0m\u001b[0;34m,\u001b[0m\u001b[0;34m\u001b[0m\u001b[0;34m\u001b[0m\u001b[0m\n",
            "\u001b[0;32m/usr/local/lib/python3.10/dist-packages/qiskit/visualization/circuit/circuit_visualization.py\u001b[0m in \u001b[0;36mcircuit_drawer\u001b[0;34m(circuit, scale, filename, style, output, interactive, plot_barriers, reverse_bits, justify, vertical_compression, idle_wires, with_layout, fold, ax, initial_state, cregbundle, wire_order, expr_len)\u001b[0m\n\u001b[1;32m    319\u001b[0m         )\n\u001b[1;32m    320\u001b[0m     \u001b[0;32melif\u001b[0m \u001b[0moutput\u001b[0m \u001b[0;34m==\u001b[0m \u001b[0;34m\"mpl\"\u001b[0m\u001b[0;34m:\u001b[0m\u001b[0;34m\u001b[0m\u001b[0;34m\u001b[0m\u001b[0m\n\u001b[0;32m--> 321\u001b[0;31m         image = _matplotlib_circuit_drawer(\n\u001b[0m\u001b[1;32m    322\u001b[0m             \u001b[0mcircuit\u001b[0m\u001b[0;34m,\u001b[0m\u001b[0;34m\u001b[0m\u001b[0;34m\u001b[0m\u001b[0m\n\u001b[1;32m    323\u001b[0m             \u001b[0mscale\u001b[0m\u001b[0;34m=\u001b[0m\u001b[0mscale\u001b[0m\u001b[0;34m,\u001b[0m\u001b[0;34m\u001b[0m\u001b[0;34m\u001b[0m\u001b[0m\n",
            "\u001b[0;32m/usr/local/lib/python3.10/dist-packages/qiskit/visualization/circuit/circuit_visualization.py\u001b[0m in \u001b[0;36m_matplotlib_circuit_drawer\u001b[0;34m(circuit, scale, filename, style, plot_barriers, reverse_bits, justify, idle_wires, with_layout, fold, ax, initial_state, cregbundle, wire_order, expr_len)\u001b[0m\n\u001b[1;32m    699\u001b[0m         \u001b[0mfold\u001b[0m \u001b[0;34m=\u001b[0m \u001b[0;36m25\u001b[0m\u001b[0;34m\u001b[0m\u001b[0;34m\u001b[0m\u001b[0m\n\u001b[1;32m    700\u001b[0m \u001b[0;34m\u001b[0m\u001b[0m\n\u001b[0;32m--> 701\u001b[0;31m     qcd = _matplotlib.MatplotlibDrawer(\n\u001b[0m\u001b[1;32m    702\u001b[0m         \u001b[0mqubits\u001b[0m\u001b[0;34m,\u001b[0m\u001b[0;34m\u001b[0m\u001b[0;34m\u001b[0m\u001b[0m\n\u001b[1;32m    703\u001b[0m         \u001b[0mclbits\u001b[0m\u001b[0;34m,\u001b[0m\u001b[0;34m\u001b[0m\u001b[0;34m\u001b[0m\u001b[0m\n",
            "\u001b[0;32m/usr/local/lib/python3.10/dist-packages/qiskit/utils/classtools.py\u001b[0m in \u001b[0;36mout\u001b[0;34m(*args, **kwargs)\u001b[0m\n\u001b[1;32m    109\u001b[0m         \u001b[0;32mdef\u001b[0m \u001b[0mout\u001b[0m\u001b[0;34m(\u001b[0m\u001b[0;34m*\u001b[0m\u001b[0margs\u001b[0m\u001b[0;34m,\u001b[0m \u001b[0;34m**\u001b[0m\u001b[0mkwargs\u001b[0m\u001b[0;34m)\u001b[0m\u001b[0;34m:\u001b[0m\u001b[0;34m\u001b[0m\u001b[0;34m\u001b[0m\u001b[0m\n\u001b[1;32m    110\u001b[0m             \u001b[0;32mfor\u001b[0m \u001b[0mcallback\u001b[0m \u001b[0;32min\u001b[0m \u001b[0mself\u001b[0m\u001b[0;34m.\u001b[0m\u001b[0m_before\u001b[0m\u001b[0;34m:\u001b[0m\u001b[0;34m\u001b[0m\u001b[0;34m\u001b[0m\u001b[0m\n\u001b[0;32m--> 111\u001b[0;31m                 \u001b[0mcallback\u001b[0m\u001b[0;34m.\u001b[0m\u001b[0m__get__\u001b[0m\u001b[0;34m(\u001b[0m\u001b[0mobj\u001b[0m\u001b[0;34m,\u001b[0m \u001b[0mobjtype\u001b[0m\u001b[0;34m)\u001b[0m\u001b[0;34m(\u001b[0m\u001b[0;34m*\u001b[0m\u001b[0margs\u001b[0m\u001b[0;34m,\u001b[0m \u001b[0;34m**\u001b[0m\u001b[0mkwargs\u001b[0m\u001b[0;34m)\u001b[0m\u001b[0;34m\u001b[0m\u001b[0;34m\u001b[0m\u001b[0m\n\u001b[0m\u001b[1;32m    112\u001b[0m             \u001b[0mretval\u001b[0m \u001b[0;34m=\u001b[0m \u001b[0mmethod\u001b[0m\u001b[0;34m(\u001b[0m\u001b[0;34m*\u001b[0m\u001b[0margs\u001b[0m\u001b[0;34m,\u001b[0m \u001b[0;34m**\u001b[0m\u001b[0mkwargs\u001b[0m\u001b[0;34m)\u001b[0m\u001b[0;34m\u001b[0m\u001b[0;34m\u001b[0m\u001b[0m\n\u001b[1;32m    113\u001b[0m             \u001b[0;32mfor\u001b[0m \u001b[0mcallback\u001b[0m \u001b[0;32min\u001b[0m \u001b[0mself\u001b[0m\u001b[0;34m.\u001b[0m\u001b[0m_after\u001b[0m\u001b[0;34m:\u001b[0m\u001b[0;34m\u001b[0m\u001b[0;34m\u001b[0m\u001b[0m\n",
            "\u001b[0;32m/usr/local/lib/python3.10/dist-packages/qiskit/utils/lazy_tester.py\u001b[0m in \u001b[0;36m__call__\u001b[0;34m(self, *_args, **_kwargs)\u001b[0m\n\u001b[1;32m     37\u001b[0m \u001b[0;34m\u001b[0m\u001b[0m\n\u001b[1;32m     38\u001b[0m     \u001b[0;32mdef\u001b[0m \u001b[0m__call__\u001b[0m\u001b[0;34m(\u001b[0m\u001b[0mself\u001b[0m\u001b[0;34m,\u001b[0m \u001b[0;34m*\u001b[0m\u001b[0m_args\u001b[0m\u001b[0;34m,\u001b[0m \u001b[0;34m**\u001b[0m\u001b[0m_kwargs\u001b[0m\u001b[0;34m)\u001b[0m\u001b[0;34m:\u001b[0m\u001b[0;34m\u001b[0m\u001b[0;34m\u001b[0m\u001b[0m\n\u001b[0;32m---> 39\u001b[0;31m         \u001b[0mself\u001b[0m\u001b[0;34m.\u001b[0m\u001b[0m_tester\u001b[0m\u001b[0;34m.\u001b[0m\u001b[0mrequire_now\u001b[0m\u001b[0;34m(\u001b[0m\u001b[0mself\u001b[0m\u001b[0;34m.\u001b[0m\u001b[0m_feature\u001b[0m\u001b[0;34m)\u001b[0m\u001b[0;34m\u001b[0m\u001b[0;34m\u001b[0m\u001b[0m\n\u001b[0m\u001b[1;32m     40\u001b[0m \u001b[0;34m\u001b[0m\u001b[0m\n\u001b[1;32m     41\u001b[0m \u001b[0;34m\u001b[0m\u001b[0m\n",
            "\u001b[0;32m/usr/local/lib/python3.10/dist-packages/qiskit/utils/lazy_tester.py\u001b[0m in \u001b[0;36mrequire_now\u001b[0;34m(self, feature)\u001b[0m\n\u001b[1;32m    221\u001b[0m         \u001b[0;32mif\u001b[0m \u001b[0mself\u001b[0m\u001b[0;34m:\u001b[0m\u001b[0;34m\u001b[0m\u001b[0;34m\u001b[0m\u001b[0m\n\u001b[1;32m    222\u001b[0m             \u001b[0;32mreturn\u001b[0m\u001b[0;34m\u001b[0m\u001b[0;34m\u001b[0m\u001b[0m\n\u001b[0;32m--> 223\u001b[0;31m         raise MissingOptionalLibraryError(\n\u001b[0m\u001b[1;32m    224\u001b[0m             \u001b[0mlibname\u001b[0m\u001b[0;34m=\u001b[0m\u001b[0mself\u001b[0m\u001b[0;34m.\u001b[0m\u001b[0m_name\u001b[0m\u001b[0;34m,\u001b[0m \u001b[0mname\u001b[0m\u001b[0;34m=\u001b[0m\u001b[0mfeature\u001b[0m\u001b[0;34m,\u001b[0m \u001b[0mpip_install\u001b[0m\u001b[0;34m=\u001b[0m\u001b[0mself\u001b[0m\u001b[0;34m.\u001b[0m\u001b[0m_install\u001b[0m\u001b[0;34m,\u001b[0m \u001b[0mmsg\u001b[0m\u001b[0;34m=\u001b[0m\u001b[0mself\u001b[0m\u001b[0;34m.\u001b[0m\u001b[0m_msg\u001b[0m\u001b[0;34m\u001b[0m\u001b[0;34m\u001b[0m\u001b[0m\n\u001b[1;32m    225\u001b[0m         )\n",
            "\u001b[0;31mMissingOptionalLibraryError\u001b[0m: \"The 'pylatexenc' library is required to use 'MatplotlibDrawer'. You can install it with 'pip install pylatexenc'.\"",
            "",
            "\u001b[0;31m---------------------------------------------------------------------------\u001b[0;32m\nNOTE: If your import is failing due to a missing package, you can\nmanually install dependencies using either !pip or !apt.\n\nTo view examples of installing some common dependencies, click the\n\"Open Examples\" button below.\n\u001b[0;31m---------------------------------------------------------------------------\u001b[0m\n"
          ],
          "errorDetails": {
            "actions": [
              {
                "action": "open_url",
                "actionText": "Open Examples",
                "url": "/notebooks/snippets/importing_libraries.ipynb"
              }
            ]
          }
        }
      ],
      "source": [
        "qft = QuantumCircuit(2)\n",
        "\n",
        "##############################\n",
        "# add gates to your circuit here\n",
        "qft.h(0)\n",
        "qft.cp(math.pi/2, 1, 0)\n",
        "qft.h(1)\n",
        "qft.swap(0, 1)\n",
        "\n",
        "\n",
        "##############################\n",
        "\n",
        "qft.draw(output='mpl')"
      ]
    },
    {
      "cell_type": "markdown",
      "id": "94b90a28",
      "metadata": {
        "id": "94b90a28"
      },
      "source": [
        "To see the matrix that describes the action of this circuit, we can plug the circuit into the `Operator` function like this:"
      ]
    },
    {
      "cell_type": "code",
      "execution_count": 102,
      "id": "d83e5f5b",
      "metadata": {
        "tags": [],
        "id": "d83e5f5b",
        "outputId": "1013e688-6e5f-49f9-adc5-d0d854ecf29f",
        "colab": {
          "base_uri": "https://localhost:8080/",
          "height": 99
        }
      },
      "outputs": [
        {
          "output_type": "execute_result",
          "data": {
            "text/plain": [
              "<IPython.core.display.Latex object>"
            ],
            "text/latex": "$$\n\n\\begin{bmatrix}\n\\frac{1}{2} & \\frac{1}{2} & \\frac{1}{2} & \\frac{1}{2}  \\\\\n \\frac{1}{2} & \\frac{1}{2} & - \\frac{1}{2} & - \\frac{1}{2}  \\\\\n \\frac{1}{2} & - \\frac{1}{2} & \\frac{i}{2} & - \\frac{i}{2}  \\\\\n \\frac{1}{2} & - \\frac{1}{2} & - \\frac{i}{2} & \\frac{i}{2}  \\\\\n \\end{bmatrix}\n$$"
          },
          "metadata": {},
          "execution_count": 102
        }
      ],
      "source": [
        "U = Operator(qft)\n",
        "\n",
        "array_to_latex(U)"
      ]
    },
    {
      "cell_type": "markdown",
      "id": "9c1ec931",
      "metadata": {
        "id": "9c1ec931"
      },
      "source": [
        "Congratulations! You finished Lab 1! 🎉 🎉 🎉"
      ]
    }
  ],
  "metadata": {
    "kernelspec": {
      "display_name": "Python 3 (ipykernel)",
      "language": "python",
      "name": "python3"
    },
    "language_info": {
      "codemirror_mode": {
        "name": "ipython",
        "version": 3
      },
      "file_extension": ".py",
      "mimetype": "text/x-python",
      "name": "python",
      "nbconvert_exporter": "python",
      "pygments_lexer": "ipython3",
      "version": "3.10.8"
    },
    "colab": {
      "provenance": [],
      "include_colab_link": true
    }
  },
  "nbformat": 4,
  "nbformat_minor": 5
}